{
 "cells": [
  {
   "cell_type": "markdown",
   "id": "fcd7bb69-eb2d-4f97-872e-2438057a0f37",
   "metadata": {},
   "source": [
    "# Car Fuel Analysis"
   ]
  },
  {
   "cell_type": "code",
   "execution_count": 247,
   "id": "abcf650e-7287-4200-8291-dbac79424804",
   "metadata": {},
   "outputs": [],
   "source": [
    "import pandas as pd\n",
    "import numpy as np\n",
    "import matplotlib.pyplot as plt\n",
    "import seaborn as sns\n",
    "\n",
    "import warnings\n",
    "from pathlib import Path"
   ]
  },
  {
   "cell_type": "markdown",
   "id": "e647cb97-67d9-4e3f-bb52-bf412c91eddb",
   "metadata": {},
   "source": [
    "## Loading Data\n",
    "\n",
    "Important notes about the data:\n",
    "- `Driving Style` refers to the previous driving inbetween the last date of fill up and the recorded date."
   ]
  },
  {
   "cell_type": "code",
   "execution_count": 158,
   "id": "eaa3046d-d1e6-4201-9f0d-c0c01c82778b",
   "metadata": {},
   "outputs": [],
   "source": [
    "fuel = pd.read_csv('fuel.csv')"
   ]
  },
  {
   "cell_type": "markdown",
   "id": "e5194f2a-499d-46ab-b096-573cc29294a7",
   "metadata": {},
   "source": [
    "## Data Cleaning"
   ]
  },
  {
   "cell_type": "code",
   "execution_count": 159,
   "id": "0b15155b-41f4-4606-bcda-84e7ce7f7e11",
   "metadata": {},
   "outputs": [
    {
     "data": {
      "text/html": [
       "<div>\n",
       "<style scoped>\n",
       "    .dataframe tbody tr th:only-of-type {\n",
       "        vertical-align: middle;\n",
       "    }\n",
       "\n",
       "    .dataframe tbody tr th {\n",
       "        vertical-align: top;\n",
       "    }\n",
       "\n",
       "    .dataframe thead th {\n",
       "        text-align: right;\n",
       "    }\n",
       "</style>\n",
       "<table border=\"1\" class=\"dataframe\">\n",
       "  <thead>\n",
       "    <tr style=\"text-align: right;\">\n",
       "      <th></th>\n",
       "      <th>Date</th>\n",
       "      <th>Mileage</th>\n",
       "      <th>Liters</th>\n",
       "      <th>PPL</th>\n",
       "      <th>Fuel Type</th>\n",
       "      <th>Price</th>\n",
       "      <th>Filled Tank</th>\n",
       "      <th>Driving Style</th>\n",
       "      <th>Roof Racks</th>\n",
       "    </tr>\n",
       "  </thead>\n",
       "  <tbody>\n",
       "    <tr>\n",
       "      <th>0</th>\n",
       "      <td>20/12/2022</td>\n",
       "      <td>47,671</td>\n",
       "      <td>22.44</td>\n",
       "      <td>139.9</td>\n",
       "      <td>E10</td>\n",
       "      <td>31.39</td>\n",
       "      <td>Y</td>\n",
       "      <td>Motorway</td>\n",
       "      <td>Y</td>\n",
       "    </tr>\n",
       "    <tr>\n",
       "      <th>1</th>\n",
       "      <td>24/12/2022</td>\n",
       "      <td>47,894</td>\n",
       "      <td>24.75</td>\n",
       "      <td>138.9</td>\n",
       "      <td>E10</td>\n",
       "      <td>34.38</td>\n",
       "      <td>Y</td>\n",
       "      <td>Normal</td>\n",
       "      <td>Y</td>\n",
       "    </tr>\n",
       "    <tr>\n",
       "      <th>2</th>\n",
       "      <td>02/01/2023</td>\n",
       "      <td>48,133</td>\n",
       "      <td>27.43</td>\n",
       "      <td>139.9</td>\n",
       "      <td>E10</td>\n",
       "      <td>38.37</td>\n",
       "      <td>Y</td>\n",
       "      <td>Motorway</td>\n",
       "      <td>Y</td>\n",
       "    </tr>\n",
       "  </tbody>\n",
       "</table>\n",
       "</div>"
      ],
      "text/plain": [
       "         Date Mileage  Liters    PPL Fuel Type  Price Filled Tank  \\\n",
       "0  20/12/2022  47,671   22.44  139.9       E10  31.39           Y   \n",
       "1  24/12/2022  47,894   24.75  138.9       E10  34.38           Y   \n",
       "2  02/01/2023  48,133   27.43  139.9       E10  38.37           Y   \n",
       "\n",
       "  Driving Style Roof Racks  \n",
       "0      Motorway          Y  \n",
       "1        Normal          Y  \n",
       "2      Motorway          Y  "
      ]
     },
     "execution_count": 159,
     "metadata": {},
     "output_type": "execute_result"
    }
   ],
   "source": [
    "fuel.head(3)"
   ]
  },
  {
   "cell_type": "markdown",
   "id": "bea45027-d379-4d28-8fff-2a16df8fb639",
   "metadata": {},
   "source": [
    "Reformating variables names into snake case."
   ]
  },
  {
   "cell_type": "code",
   "execution_count": 160,
   "id": "10599747-7189-4f4b-bd3c-da931f2d7b56",
   "metadata": {},
   "outputs": [],
   "source": [
    "fuel.columns = ['_'.join(col.lower().split()) for col in fuel.columns]"
   ]
  },
  {
   "cell_type": "markdown",
   "id": "f9d42a3e-4820-4bdc-a417-675e9fa3abfb",
   "metadata": {},
   "source": [
    "Converting the `date` column to a datetime."
   ]
  },
  {
   "cell_type": "code",
   "execution_count": 161,
   "id": "c098e12d-3930-430f-b4e6-5fe237f42ffd",
   "metadata": {},
   "outputs": [],
   "source": [
    "fuel[\"date\"] = pd.to_datetime(fuel[\"date\"], format=\"%d/%m/%Y\")"
   ]
  },
  {
   "cell_type": "markdown",
   "id": "40677d24-8a97-4333-af60-a217306f8596",
   "metadata": {},
   "source": [
    "Converting `mileage` to numeric and renaming to `total_mileage`."
   ]
  },
  {
   "cell_type": "code",
   "execution_count": 162,
   "id": "5066eef1-65be-434d-bdea-ae8c747d3784",
   "metadata": {},
   "outputs": [],
   "source": [
    "fuel[\"mileage\"] = pd.to_numeric(fuel[\"mileage\"].str.replace(\",\", \"\"))\n",
    "fuel.rename(columns={'mileage': 'total_mileage'}, inplace=True)"
   ]
  },
  {
   "cell_type": "markdown",
   "id": "a22bfde6-cb90-4965-917b-ce964ee9a4ab",
   "metadata": {},
   "source": [
    "~~Rename `ppl` to `price_per_liter`.~~"
   ]
  },
  {
   "cell_type": "code",
   "execution_count": 163,
   "id": "8499db38-745f-4c95-b703-6e8a33ca1a49",
   "metadata": {},
   "outputs": [],
   "source": [
    "#fuel.rename(columns={'ppl': 'price_per_liter'}, inplace=True)"
   ]
  },
  {
   "cell_type": "markdown",
   "id": "213f8517-3630-40ac-ba20-2cf4e4e38d64",
   "metadata": {},
   "source": [
    "Convert `filled_tank` variable to boolean."
   ]
  },
  {
   "cell_type": "code",
   "execution_count": 164,
   "id": "c19b2dc5-a990-41ad-8401-5f8a8a9f7b8a",
   "metadata": {},
   "outputs": [],
   "source": [
    "fuel[\"filled_tank\"] = fuel[\"filled_tank\"].map({\"Y\": True, \"N\": False})"
   ]
  },
  {
   "cell_type": "markdown",
   "id": "497203ab-1adc-4d4d-a23c-985c07b73215",
   "metadata": {},
   "source": [
    "Relabel `roof_rack` variables."
   ]
  },
  {
   "cell_type": "code",
   "execution_count": 165,
   "id": "7068e180-84a2-42ca-ae5d-a0c111fc3186",
   "metadata": {},
   "outputs": [],
   "source": [
    "fuel[\"roof_racks\"] = fuel[\"roof_racks\"].replace({\"Y\": \"On\", \"N\": \"Off\"})"
   ]
  },
  {
   "cell_type": "markdown",
   "id": "12c42b84-28bc-4986-b902-de9e9b6d95d5",
   "metadata": {},
   "source": [
    "Replace `Supreme` with `SUP` in `fuel_type` column."
   ]
  },
  {
   "cell_type": "code",
   "execution_count": 166,
   "id": "1d8e4eec-0929-46d5-a9c3-e0c9e33ba31a",
   "metadata": {},
   "outputs": [],
   "source": [
    "fuel[\"fuel_type\"] = fuel[\"fuel_type\"].replace(\"Supreme\", \"SUP\")"
   ]
  },
  {
   "cell_type": "markdown",
   "id": "c53eefe1-9072-4cf4-b997-61b3e50662a3",
   "metadata": {},
   "source": [
    "Strip string columns of blank space."
   ]
  },
  {
   "cell_type": "code",
   "execution_count": 188,
   "id": "b706be48-6cb9-4217-ba57-776afe3e0d83",
   "metadata": {},
   "outputs": [],
   "source": [
    "for col in (\"fuel_type\", \"driving_style\"):\n",
    "    fuel[col] = fuel[col].str.strip()"
   ]
  },
  {
   "cell_type": "code",
   "execution_count": 215,
   "id": "5cf91e95-1096-4b90-8f9e-78cc4ccc54e5",
   "metadata": {},
   "outputs": [],
   "source": [
    "fuel = fuel.sort_values('date')"
   ]
  },
  {
   "cell_type": "code",
   "execution_count": 216,
   "id": "cedc8a3c-a9cb-475f-b874-1723a7651795",
   "metadata": {},
   "outputs": [
    {
     "data": {
      "text/html": [
       "<div>\n",
       "<style scoped>\n",
       "    .dataframe tbody tr th:only-of-type {\n",
       "        vertical-align: middle;\n",
       "    }\n",
       "\n",
       "    .dataframe tbody tr th {\n",
       "        vertical-align: top;\n",
       "    }\n",
       "\n",
       "    .dataframe thead th {\n",
       "        text-align: right;\n",
       "    }\n",
       "</style>\n",
       "<table border=\"1\" class=\"dataframe\">\n",
       "  <thead>\n",
       "    <tr style=\"text-align: right;\">\n",
       "      <th></th>\n",
       "      <th>date</th>\n",
       "      <th>total_mileage</th>\n",
       "      <th>liters</th>\n",
       "      <th>ppl</th>\n",
       "      <th>fuel_type</th>\n",
       "      <th>price</th>\n",
       "      <th>filled_tank</th>\n",
       "      <th>driving_style</th>\n",
       "      <th>roof_racks</th>\n",
       "    </tr>\n",
       "  </thead>\n",
       "  <tbody>\n",
       "    <tr>\n",
       "      <th>0</th>\n",
       "      <td>2022-12-20</td>\n",
       "      <td>47671</td>\n",
       "      <td>22.44</td>\n",
       "      <td>139.9</td>\n",
       "      <td>E10</td>\n",
       "      <td>31.39</td>\n",
       "      <td>True</td>\n",
       "      <td>Motorway</td>\n",
       "      <td>On</td>\n",
       "    </tr>\n",
       "    <tr>\n",
       "      <th>1</th>\n",
       "      <td>2022-12-24</td>\n",
       "      <td>47894</td>\n",
       "      <td>24.75</td>\n",
       "      <td>138.9</td>\n",
       "      <td>E10</td>\n",
       "      <td>34.38</td>\n",
       "      <td>True</td>\n",
       "      <td>Normal</td>\n",
       "      <td>On</td>\n",
       "    </tr>\n",
       "    <tr>\n",
       "      <th>2</th>\n",
       "      <td>2023-01-02</td>\n",
       "      <td>48133</td>\n",
       "      <td>27.43</td>\n",
       "      <td>139.9</td>\n",
       "      <td>E10</td>\n",
       "      <td>38.37</td>\n",
       "      <td>True</td>\n",
       "      <td>Motorway</td>\n",
       "      <td>On</td>\n",
       "    </tr>\n",
       "    <tr>\n",
       "      <th>3</th>\n",
       "      <td>2023-01-08</td>\n",
       "      <td>48346</td>\n",
       "      <td>24.67</td>\n",
       "      <td>175.9</td>\n",
       "      <td>E10</td>\n",
       "      <td>43.39</td>\n",
       "      <td>True</td>\n",
       "      <td>Motorway</td>\n",
       "      <td>On</td>\n",
       "    </tr>\n",
       "    <tr>\n",
       "      <th>4</th>\n",
       "      <td>2023-01-09</td>\n",
       "      <td>48607</td>\n",
       "      <td>26.92</td>\n",
       "      <td>145.9</td>\n",
       "      <td>E10</td>\n",
       "      <td>39.28</td>\n",
       "      <td>True</td>\n",
       "      <td>Normal</td>\n",
       "      <td>On</td>\n",
       "    </tr>\n",
       "    <tr>\n",
       "      <th>5</th>\n",
       "      <td>2023-02-26</td>\n",
       "      <td>48775</td>\n",
       "      <td>22.18</td>\n",
       "      <td>140.9</td>\n",
       "      <td>E10</td>\n",
       "      <td>31.25</td>\n",
       "      <td>True</td>\n",
       "      <td>Mixed</td>\n",
       "      <td>On</td>\n",
       "    </tr>\n",
       "    <tr>\n",
       "      <th>6</th>\n",
       "      <td>2023-03-17</td>\n",
       "      <td>48869</td>\n",
       "      <td>10.91</td>\n",
       "      <td>174.9</td>\n",
       "      <td>E5</td>\n",
       "      <td>19.08</td>\n",
       "      <td>True</td>\n",
       "      <td>Normal</td>\n",
       "      <td>On</td>\n",
       "    </tr>\n",
       "    <tr>\n",
       "      <th>7</th>\n",
       "      <td>2023-03-17</td>\n",
       "      <td>49091</td>\n",
       "      <td>22.53</td>\n",
       "      <td>167.9</td>\n",
       "      <td>E10</td>\n",
       "      <td>37.83</td>\n",
       "      <td>True</td>\n",
       "      <td>Motorway</td>\n",
       "      <td>On</td>\n",
       "    </tr>\n",
       "    <tr>\n",
       "      <th>8</th>\n",
       "      <td>2023-03-18</td>\n",
       "      <td>49257</td>\n",
       "      <td>19.11</td>\n",
       "      <td>139.9</td>\n",
       "      <td>E10</td>\n",
       "      <td>26.73</td>\n",
       "      <td>True</td>\n",
       "      <td>Motorway</td>\n",
       "      <td>On</td>\n",
       "    </tr>\n",
       "    <tr>\n",
       "      <th>9</th>\n",
       "      <td>2023-03-25</td>\n",
       "      <td>49453</td>\n",
       "      <td>21.48</td>\n",
       "      <td>139.9</td>\n",
       "      <td>E10</td>\n",
       "      <td>30.05</td>\n",
       "      <td>True</td>\n",
       "      <td>Normal</td>\n",
       "      <td>On</td>\n",
       "    </tr>\n",
       "    <tr>\n",
       "      <th>10</th>\n",
       "      <td>2023-04-07</td>\n",
       "      <td>49674</td>\n",
       "      <td>23.90</td>\n",
       "      <td>142.9</td>\n",
       "      <td>E10</td>\n",
       "      <td>34.15</td>\n",
       "      <td>True</td>\n",
       "      <td>Normal</td>\n",
       "      <td>On</td>\n",
       "    </tr>\n",
       "    <tr>\n",
       "      <th>11</th>\n",
       "      <td>2023-04-23</td>\n",
       "      <td>49826</td>\n",
       "      <td>15.93</td>\n",
       "      <td>142.9</td>\n",
       "      <td>E10</td>\n",
       "      <td>22.76</td>\n",
       "      <td>True</td>\n",
       "      <td>Normal</td>\n",
       "      <td>Off</td>\n",
       "    </tr>\n",
       "    <tr>\n",
       "      <th>12</th>\n",
       "      <td>2023-04-24</td>\n",
       "      <td>50078</td>\n",
       "      <td>25.92</td>\n",
       "      <td>140.9</td>\n",
       "      <td>E10</td>\n",
       "      <td>36.52</td>\n",
       "      <td>True</td>\n",
       "      <td>Motorway</td>\n",
       "      <td>Off</td>\n",
       "    </tr>\n",
       "    <tr>\n",
       "      <th>13</th>\n",
       "      <td>2023-06-04</td>\n",
       "      <td>50177</td>\n",
       "      <td>15.64</td>\n",
       "      <td>132.9</td>\n",
       "      <td>E10</td>\n",
       "      <td>20.79</td>\n",
       "      <td>True</td>\n",
       "      <td>Normal</td>\n",
       "      <td>Off</td>\n",
       "    </tr>\n",
       "    <tr>\n",
       "      <th>14</th>\n",
       "      <td>2023-06-09</td>\n",
       "      <td>50357</td>\n",
       "      <td>17.21</td>\n",
       "      <td>147.9</td>\n",
       "      <td>E10</td>\n",
       "      <td>25.45</td>\n",
       "      <td>True</td>\n",
       "      <td>Motorway</td>\n",
       "      <td>Off</td>\n",
       "    </tr>\n",
       "    <tr>\n",
       "      <th>15</th>\n",
       "      <td>2023-06-09</td>\n",
       "      <td>50580</td>\n",
       "      <td>6.77</td>\n",
       "      <td>147.9</td>\n",
       "      <td>E10</td>\n",
       "      <td>10.01</td>\n",
       "      <td>False</td>\n",
       "      <td>Motorway</td>\n",
       "      <td>Off</td>\n",
       "    </tr>\n",
       "    <tr>\n",
       "      <th>16</th>\n",
       "      <td>2023-06-12</td>\n",
       "      <td>50690</td>\n",
       "      <td>24.01</td>\n",
       "      <td>156.9</td>\n",
       "      <td>SUP</td>\n",
       "      <td>37.67</td>\n",
       "      <td>False</td>\n",
       "      <td>Motorway</td>\n",
       "      <td>Off</td>\n",
       "    </tr>\n",
       "    <tr>\n",
       "      <th>17</th>\n",
       "      <td>2023-06-12</td>\n",
       "      <td>50835</td>\n",
       "      <td>16.42</td>\n",
       "      <td>143.9</td>\n",
       "      <td>E10</td>\n",
       "      <td>23.63</td>\n",
       "      <td>True</td>\n",
       "      <td>Motorway</td>\n",
       "      <td>Off</td>\n",
       "    </tr>\n",
       "    <tr>\n",
       "      <th>18</th>\n",
       "      <td>2023-07-06</td>\n",
       "      <td>50991</td>\n",
       "      <td>15.27</td>\n",
       "      <td>140.9</td>\n",
       "      <td>E10</td>\n",
       "      <td>21.52</td>\n",
       "      <td>True</td>\n",
       "      <td>Motorway</td>\n",
       "      <td>Off</td>\n",
       "    </tr>\n",
       "    <tr>\n",
       "      <th>19</th>\n",
       "      <td>2023-07-06</td>\n",
       "      <td>51250</td>\n",
       "      <td>26.19</td>\n",
       "      <td>141.9</td>\n",
       "      <td>E10</td>\n",
       "      <td>37.16</td>\n",
       "      <td>True</td>\n",
       "      <td>Motorway</td>\n",
       "      <td>Off</td>\n",
       "    </tr>\n",
       "    <tr>\n",
       "      <th>20</th>\n",
       "      <td>2023-07-13</td>\n",
       "      <td>51387</td>\n",
       "      <td>12.08</td>\n",
       "      <td>137.9</td>\n",
       "      <td>E10</td>\n",
       "      <td>16.66</td>\n",
       "      <td>True</td>\n",
       "      <td>Normal</td>\n",
       "      <td>Off</td>\n",
       "    </tr>\n",
       "    <tr>\n",
       "      <th>21</th>\n",
       "      <td>2023-07-28</td>\n",
       "      <td>51597</td>\n",
       "      <td>23.30</td>\n",
       "      <td>139.9</td>\n",
       "      <td>E10</td>\n",
       "      <td>32.60</td>\n",
       "      <td>True</td>\n",
       "      <td>Normal</td>\n",
       "      <td>Off</td>\n",
       "    </tr>\n",
       "    <tr>\n",
       "      <th>22</th>\n",
       "      <td>2023-08-05</td>\n",
       "      <td>51846</td>\n",
       "      <td>27.20</td>\n",
       "      <td>139.9</td>\n",
       "      <td>E10</td>\n",
       "      <td>38.05</td>\n",
       "      <td>True</td>\n",
       "      <td>Normal</td>\n",
       "      <td>Off</td>\n",
       "    </tr>\n",
       "    <tr>\n",
       "      <th>23</th>\n",
       "      <td>2023-08-11</td>\n",
       "      <td>52081</td>\n",
       "      <td>24.60</td>\n",
       "      <td>146.9</td>\n",
       "      <td>E10</td>\n",
       "      <td>36.14</td>\n",
       "      <td>True</td>\n",
       "      <td>Normal</td>\n",
       "      <td>On</td>\n",
       "    </tr>\n",
       "  </tbody>\n",
       "</table>\n",
       "</div>"
      ],
      "text/plain": [
       "         date  total_mileage  liters    ppl fuel_type  price  filled_tank  \\\n",
       "0  2022-12-20          47671   22.44  139.9       E10  31.39         True   \n",
       "1  2022-12-24          47894   24.75  138.9       E10  34.38         True   \n",
       "2  2023-01-02          48133   27.43  139.9       E10  38.37         True   \n",
       "3  2023-01-08          48346   24.67  175.9       E10  43.39         True   \n",
       "4  2023-01-09          48607   26.92  145.9       E10  39.28         True   \n",
       "5  2023-02-26          48775   22.18  140.9       E10  31.25         True   \n",
       "6  2023-03-17          48869   10.91  174.9        E5  19.08         True   \n",
       "7  2023-03-17          49091   22.53  167.9       E10  37.83         True   \n",
       "8  2023-03-18          49257   19.11  139.9       E10  26.73         True   \n",
       "9  2023-03-25          49453   21.48  139.9       E10  30.05         True   \n",
       "10 2023-04-07          49674   23.90  142.9       E10  34.15         True   \n",
       "11 2023-04-23          49826   15.93  142.9       E10  22.76         True   \n",
       "12 2023-04-24          50078   25.92  140.9       E10  36.52         True   \n",
       "13 2023-06-04          50177   15.64  132.9       E10  20.79         True   \n",
       "14 2023-06-09          50357   17.21  147.9       E10  25.45         True   \n",
       "15 2023-06-09          50580    6.77  147.9       E10  10.01        False   \n",
       "16 2023-06-12          50690   24.01  156.9       SUP  37.67        False   \n",
       "17 2023-06-12          50835   16.42  143.9       E10  23.63         True   \n",
       "18 2023-07-06          50991   15.27  140.9       E10  21.52         True   \n",
       "19 2023-07-06          51250   26.19  141.9       E10  37.16         True   \n",
       "20 2023-07-13          51387   12.08  137.9       E10  16.66         True   \n",
       "21 2023-07-28          51597   23.30  139.9       E10  32.60         True   \n",
       "22 2023-08-05          51846   27.20  139.9       E10  38.05         True   \n",
       "23 2023-08-11          52081   24.60  146.9       E10  36.14         True   \n",
       "\n",
       "   driving_style roof_racks  \n",
       "0       Motorway         On  \n",
       "1         Normal         On  \n",
       "2       Motorway         On  \n",
       "3       Motorway         On  \n",
       "4         Normal         On  \n",
       "5          Mixed         On  \n",
       "6         Normal         On  \n",
       "7       Motorway         On  \n",
       "8       Motorway         On  \n",
       "9         Normal         On  \n",
       "10        Normal         On  \n",
       "11        Normal        Off  \n",
       "12      Motorway        Off  \n",
       "13        Normal        Off  \n",
       "14      Motorway        Off  \n",
       "15      Motorway        Off  \n",
       "16      Motorway        Off  \n",
       "17      Motorway        Off  \n",
       "18      Motorway        Off  \n",
       "19      Motorway        Off  \n",
       "20        Normal        Off  \n",
       "21        Normal        Off  \n",
       "22        Normal        Off  \n",
       "23        Normal         On  "
      ]
     },
     "execution_count": 216,
     "metadata": {},
     "output_type": "execute_result"
    }
   ],
   "source": [
    "fuel"
   ]
  },
  {
   "cell_type": "markdown",
   "id": "29898eb8-4572-4b13-b017-df9362674cc5",
   "metadata": {},
   "source": [
    "Save `fuel` as `fuel_processed.csv`."
   ]
  },
  {
   "cell_type": "code",
   "execution_count": 332,
   "id": "2e76e06f-5f1a-442d-9c94-bc34a21dcc80",
   "metadata": {},
   "outputs": [],
   "source": [
    "fuel.to_csv('fuel_processed.csv', index=False)"
   ]
  },
  {
   "cell_type": "markdown",
   "id": "b0ef0f05-7a21-4394-acde-c88bf75cf0e2",
   "metadata": {},
   "source": [
    "### Processing Fuel Data\n",
    "\n",
    "- Aggregate instances where the tank was not filled.\n",
    "- Compute the distance travelled on the fuel put in.\n",
    "\n",
    "This will allow us to do efficiency analysis."
   ]
  },
  {
   "cell_type": "code",
   "execution_count": 214,
   "id": "23483f71-4e6e-4c96-a9b8-f5a063cd59de",
   "metadata": {},
   "outputs": [],
   "source": [
    "def process_fuel_data(fuel_df):\n",
    "    df = fuel_df.copy()\n",
    "    \n",
    "    for index, row in fuel_df.iterrows():\n",
    "        # pass any columns with a filled tank\n",
    "        if row['filled_tank']:\n",
    "            continue\n",
    "        \n",
    "        # drop final row and raise error\n",
    "        if index == df.index[-1]:\n",
    "            df.drop(index, inplace=True)\n",
    "            warnings.warn(\"The final entry had filled_tank = False, so data was lost in processing\")\n",
    "            continue\n",
    "        \n",
    "        # update next column in data frame\n",
    "        for col in ('liters', 'price'):\n",
    "            df.at[index + 1, col] += row[col] \n",
    "        \n",
    "        df.at[index + 1, 'ppl'] = (100*(df.at[index + 1, 'price'] / df.at[index + 1, 'liters'])).round(1)\n",
    "        \n",
    "        for col in ('fuel_type', 'driving_style', 'roof_racks'):\n",
    "            if df.at[index + 1, col] != row[col]:\n",
    "                df.at[index + 1, col] = \"Mixed\"\n",
    "        \n",
    "        #drop column\n",
    "        df.drop(index, inplace=True)\n",
    "    \n",
    "    #computes mileage and miles_per_liter\n",
    "    df['mileage'] = df['total_mileage'].diff()\n",
    "    df['miles_per_liter'] = df['mileage'] / df['liters']\n",
    "    \n",
    "    return(df.reset_index(drop=True).sort_values('date'))"
   ]
  },
  {
   "cell_type": "code",
   "execution_count": 191,
   "id": "2e299102-8793-4062-86c3-444a73fbd95c",
   "metadata": {},
   "outputs": [],
   "source": [
    "fuel2 = process_fuel_data(fuel)"
   ]
  },
  {
   "cell_type": "code",
   "execution_count": 192,
   "id": "16e215e4-ddce-4cee-800a-08b32ce47448",
   "metadata": {},
   "outputs": [
    {
     "data": {
      "text/html": [
       "<div>\n",
       "<style scoped>\n",
       "    .dataframe tbody tr th:only-of-type {\n",
       "        vertical-align: middle;\n",
       "    }\n",
       "\n",
       "    .dataframe tbody tr th {\n",
       "        vertical-align: top;\n",
       "    }\n",
       "\n",
       "    .dataframe thead th {\n",
       "        text-align: right;\n",
       "    }\n",
       "</style>\n",
       "<table border=\"1\" class=\"dataframe\">\n",
       "  <thead>\n",
       "    <tr style=\"text-align: right;\">\n",
       "      <th></th>\n",
       "      <th>date</th>\n",
       "      <th>total_mileage</th>\n",
       "      <th>liters</th>\n",
       "      <th>ppl</th>\n",
       "      <th>fuel_type</th>\n",
       "      <th>price</th>\n",
       "      <th>filled_tank</th>\n",
       "      <th>driving_style</th>\n",
       "      <th>roof_racks</th>\n",
       "      <th>mileage</th>\n",
       "      <th>miles_per_liter</th>\n",
       "    </tr>\n",
       "  </thead>\n",
       "  <tbody>\n",
       "    <tr>\n",
       "      <th>0</th>\n",
       "      <td>2022-12-20</td>\n",
       "      <td>47671</td>\n",
       "      <td>22.44</td>\n",
       "      <td>139.9</td>\n",
       "      <td>E10</td>\n",
       "      <td>31.39</td>\n",
       "      <td>True</td>\n",
       "      <td>Motorway</td>\n",
       "      <td>On</td>\n",
       "      <td>NaN</td>\n",
       "      <td>NaN</td>\n",
       "    </tr>\n",
       "    <tr>\n",
       "      <th>1</th>\n",
       "      <td>2022-12-24</td>\n",
       "      <td>47894</td>\n",
       "      <td>24.75</td>\n",
       "      <td>138.9</td>\n",
       "      <td>E10</td>\n",
       "      <td>34.38</td>\n",
       "      <td>True</td>\n",
       "      <td>Normal</td>\n",
       "      <td>On</td>\n",
       "      <td>223.0</td>\n",
       "      <td>9.010101</td>\n",
       "    </tr>\n",
       "    <tr>\n",
       "      <th>2</th>\n",
       "      <td>2023-01-02</td>\n",
       "      <td>48133</td>\n",
       "      <td>27.43</td>\n",
       "      <td>139.9</td>\n",
       "      <td>E10</td>\n",
       "      <td>38.37</td>\n",
       "      <td>True</td>\n",
       "      <td>Motorway</td>\n",
       "      <td>On</td>\n",
       "      <td>239.0</td>\n",
       "      <td>8.713088</td>\n",
       "    </tr>\n",
       "    <tr>\n",
       "      <th>3</th>\n",
       "      <td>2023-01-08</td>\n",
       "      <td>48346</td>\n",
       "      <td>24.67</td>\n",
       "      <td>175.9</td>\n",
       "      <td>E10</td>\n",
       "      <td>43.39</td>\n",
       "      <td>True</td>\n",
       "      <td>Motorway</td>\n",
       "      <td>On</td>\n",
       "      <td>213.0</td>\n",
       "      <td>8.633968</td>\n",
       "    </tr>\n",
       "    <tr>\n",
       "      <th>4</th>\n",
       "      <td>2023-01-09</td>\n",
       "      <td>48607</td>\n",
       "      <td>26.92</td>\n",
       "      <td>145.9</td>\n",
       "      <td>E10</td>\n",
       "      <td>39.28</td>\n",
       "      <td>True</td>\n",
       "      <td>Normal</td>\n",
       "      <td>On</td>\n",
       "      <td>261.0</td>\n",
       "      <td>9.695394</td>\n",
       "    </tr>\n",
       "  </tbody>\n",
       "</table>\n",
       "</div>"
      ],
      "text/plain": [
       "        date  total_mileage  liters    ppl fuel_type  price  filled_tank  \\\n",
       "0 2022-12-20          47671   22.44  139.9       E10  31.39         True   \n",
       "1 2022-12-24          47894   24.75  138.9       E10  34.38         True   \n",
       "2 2023-01-02          48133   27.43  139.9       E10  38.37         True   \n",
       "3 2023-01-08          48346   24.67  175.9       E10  43.39         True   \n",
       "4 2023-01-09          48607   26.92  145.9       E10  39.28         True   \n",
       "\n",
       "  driving_style roof_racks  mileage  miles_per_liter  \n",
       "0      Motorway         On      NaN              NaN  \n",
       "1        Normal         On    223.0         9.010101  \n",
       "2      Motorway         On    239.0         8.713088  \n",
       "3      Motorway         On    213.0         8.633968  \n",
       "4        Normal         On    261.0         9.695394  "
      ]
     },
     "execution_count": 192,
     "metadata": {},
     "output_type": "execute_result"
    }
   ],
   "source": [
    "fuel2.head()"
   ]
  },
  {
   "cell_type": "markdown",
   "id": "edb310f9-4691-40bc-9ffe-b74a86e6bac6",
   "metadata": {},
   "source": [
    "Save `fuel2` as `fuel_mpl.csv`."
   ]
  },
  {
   "cell_type": "code",
   "execution_count": 331,
   "id": "472879c9-9564-4fbb-82ff-0c30412cbcc3",
   "metadata": {},
   "outputs": [],
   "source": [
    "fuel2.to_csv('fuel_mpl.csv', index=False)"
   ]
  },
  {
   "cell_type": "markdown",
   "id": "55f0d02a-8024-450d-a344-6737985a6f40",
   "metadata": {},
   "source": [
    "## Analysis"
   ]
  },
  {
   "cell_type": "code",
   "execution_count": 248,
   "id": "38cceefa-18ac-4eb2-86d0-152777c9cee0",
   "metadata": {},
   "outputs": [],
   "source": [
    "#For saving figures\n",
    "IMAGES_PATH = Path() / \"images\"\n",
    "IMAGES_PATH.mkdir(parents=True, exist_ok=True)\n",
    "\n",
    "def save_fig(fig_id, tight_layout=True, fig_extension=\"png\", resolution=300):\n",
    "    path = IMAGES_PATH / f\"{fig_id}.{fig_extension}\"\n",
    "    if tight_layout:\n",
    "        plt.tight_layout()\n",
    "    plt.savefig(path, format=fig_extension, dpi=resolution)"
   ]
  },
  {
   "cell_type": "markdown",
   "id": "79ba687f-5cfa-4be7-a4ab-0acce96562ca",
   "metadata": {},
   "source": [
    "### Mileage"
   ]
  },
  {
   "cell_type": "code",
   "execution_count": 260,
   "id": "a9c11d78-0946-47e1-8efe-efffa61fb21a",
   "metadata": {},
   "outputs": [
    {
     "data": {
      "image/png": "[encoded data removed]",
      "text/plain": [
       "<Figure size 1000x500 with 1 Axes>"
      ]
     },
     "metadata": {},
     "output_type": "display_data"
    }
   ],
   "source": [
    "plt.figure(figsize=(10, 5))\n",
    "\n",
    "plt.plot(fuel['date'], fuel['total_mileage'], marker='o', linestyle='-')\n",
    "\n",
    "plt.xlabel('Date')\n",
    "plt.ylabel('Mileage')\n",
    "plt.title('Mileage Increase Over Time')\n",
    "plt.grid(True)\n",
    "plt.xticks(rotation=45)\n",
    "\n",
    "save_fig(\"mileage\")\n",
    "plt.show()"
   ]
  },
  {
   "cell_type": "code",
   "execution_count": 261,
   "id": "f54a9bee-090b-4c7f-9717-b0b885cc1363",
   "metadata": {},
   "outputs": [
    {
     "data": {
      "image/png": "[encoded data removed]",
      "text/plain": [
       "<Figure size 1000x500 with 1 Axes>"
      ]
     },
     "metadata": {},
     "output_type": "display_data"
    }
   ],
   "source": [
    "color_dict = {\n",
    "    'Normal': '#4C72B0',\n",
    "    'Motorway': '#C44E52',\n",
    "    'Mixed': '#55A868'\n",
    "}\n",
    "\n",
    "plt.figure(figsize=(10, 5))\n",
    "\n",
    "current_style = fuel['driving_style'].iloc[1]\n",
    "line_color = color_dict[current_style]  # Initialize line color\n",
    "x_points = [fuel['date'].iloc[0]]\n",
    "y_points = [fuel['total_mileage'].iloc[0]]\n",
    "legend_handles = {}\n",
    "\n",
    "for i in range(1, len(fuel)-1):\n",
    "    if fuel['driving_style'].iloc[i+1] == current_style:\n",
    "        x_points.append(fuel['date'].iloc[i])\n",
    "        y_points.append(fuel['total_mileage'].iloc[i])\n",
    "    else:\n",
    "        plt.plot(x_points, y_points, color=line_color, label=current_style, linewidth=2)  # Increase linewidth\n",
    "        plt.plot([x_points[-1], fuel['date'].iloc[i]], [y_points[-1], fuel['total_mileage'].iloc[i]], color=line_color, linewidth=2)  # Increase linewidth\n",
    "        legend_handles[current_style] = plt.Line2D([0], [0], color=line_color, linestyle='-', linewidth=2)  # Increase linewidth\n",
    "        \n",
    "        current_style = fuel['driving_style'].iloc[i+1]\n",
    "        line_color = color_dict[current_style]  # Update line color\n",
    "        x_points = [fuel['date'].iloc[i]]\n",
    "        y_points = [fuel['total_mileage'].iloc[i]]\n",
    "        \n",
    "plt.plot(x_points, y_points, color=line_color, label=current_style, linewidth=2)  # Increase linewidth\n",
    "legend_handles[current_style] = plt.Line2D([0], [0], color=line_color, linestyle='-', linewidth=2)  # Increase linewidth\n",
    "\n",
    "plt.xlabel('Date')\n",
    "plt.ylabel('Mileage')\n",
    "plt.title('Mileage Increase Over Time')\n",
    "plt.legend(handles=legend_handles.values(), labels=legend_handles.keys())\n",
    "plt.grid(True)\n",
    "plt.xticks(rotation=45)\n",
    "\n",
    "save_fig(\"mileage_colored_by_driving_style\")\n",
    "plt.show()"
   ]
  },
  {
   "cell_type": "markdown",
   "id": "7fe376cb-8a87-45e7-845d-89da1bc7d295",
   "metadata": {},
   "source": [
    "### Fuel Prices"
   ]
  },
  {
   "cell_type": "code",
   "execution_count": 292,
   "id": "97751d4d-d32f-4a63-826f-f45fe1310abc",
   "metadata": {},
   "outputs": [
    {
     "data": {
      "image/png": "[encoded data removed]",
      "text/plain": [
       "<Figure size 1000x500 with 1 Axes>"
      ]
     },
     "metadata": {},
     "output_type": "display_data"
    }
   ],
   "source": [
    "color_dict = {\n",
    "    'Normal': '#4C72B0',\n",
    "    'Motorway': '#C44E52',\n",
    "    'Mixed': '#55A868'\n",
    "}\n",
    "\n",
    "plt.figure(figsize=(10, 5))\n",
    "\n",
    "for style in color_dict:\n",
    "    mask = fuel['driving_style'] == style\n",
    "    plt.scatter(fuel['date'][mask], fuel['ppl'][mask], marker='o', s=50, color=color_dict[style], label=style)\n",
    "\n",
    "plt.plot(fuel['date'], fuel['ppl'], marker='', linestyle='-', color=\"grey\", zorder=0)\n",
    "\n",
    "plt.xlabel('Date')\n",
    "plt.ylabel('Price Per Liter in Pence')\n",
    "plt.title('Fuel Prices')\n",
    "plt.grid(True)\n",
    "plt.xticks(rotation=45)\n",
    "plt.legend()\n",
    "\n",
    "save_fig(\"fuel_prices\")\n",
    "plt.show()\n"
   ]
  },
  {
   "cell_type": "markdown",
   "id": "78cf77be-eaf0-49a3-8b26-a713d3b59f7e",
   "metadata": {},
   "source": [
    "### Fuel Efficiency"
   ]
  },
  {
   "cell_type": "code",
   "execution_count": 310,
   "id": "11d6b7e4-1884-46f1-a34a-ef83bbd2247c",
   "metadata": {},
   "outputs": [
    {
     "data": {
      "image/png": "[encoded data removed]",
      "text/plain": [
       "<Figure size 1200x400 with 1 Axes>"
      ]
     },
     "metadata": {},
     "output_type": "display_data"
    }
   ],
   "source": [
    "sns.set_palette(\"muted\")  # Change \"Set2\" to the desired palette\n",
    "\n",
    "# Plot 1 - Driving Style\n",
    "plt.figure(figsize=(12, 4))\n",
    "\n",
    "sns.barplot(data=fuel2, x='driving_style', y='miles_per_liter', ci=None)\n",
    "plt.xlabel('Driving Style')\n",
    "plt.ylabel('Average Miles Per Liter')\n",
    "plt.title('Average Miles Per Liter by Driving Style')\n",
    "\n",
    "save_fig(\"fuel_efficiency_by_driving_style\")\n",
    "plt.show()"
   ]
  },
  {
   "cell_type": "code",
   "execution_count": 311,
   "id": "f8b49250-c980-4d79-9302-2166a6957beb",
   "metadata": {},
   "outputs": [
    {
     "data": {
      "image/png": "[encoded data removed]",
      "text/plain": [
       "<Figure size 1200x400 with 1 Axes>"
      ]
     },
     "metadata": {},
     "output_type": "display_data"
    }
   ],
   "source": [
    "# Plot 2 - Roof Racks\n",
    "plt.figure(figsize=(12, 4))\n",
    "\n",
    "sns.barplot(data=fuel2, x='roof_racks', y='miles_per_liter', ci=None)\n",
    "plt.xlabel('Roof Racks')\n",
    "plt.ylabel('Average Miles Per Liter')\n",
    "plt.title('Average Miles Per Liter by Roof Racks')\n",
    "\n",
    "save_fig(\"fuel_efficiency_by_roof_racks\")\n",
    "plt.show()"
   ]
  },
  {
   "cell_type": "code",
   "execution_count": 312,
   "id": "90c3b312-37dc-4c4f-9c87-501e2bee7de2",
   "metadata": {},
   "outputs": [
    {
     "data": {
      "image/png": "[encoded data removed]",
      "text/plain": [
       "<Figure size 1200x400 with 1 Axes>"
      ]
     },
     "metadata": {},
     "output_type": "display_data"
    }
   ],
   "source": [
    "# Plot 3 - Fuel Type\n",
    "plt.figure(figsize=(12, 4))\n",
    "\n",
    "sns.barplot(data=fuel2, x='fuel_type', y='miles_per_liter', ci=None)\n",
    "plt.xlabel('Fuel Type')\n",
    "plt.ylabel('Average Miles Per Liter')\n",
    "plt.title('Average Miles Per Liter by Fuel Type')\n",
    "\n",
    "save_fig(\"fuel_efficiency_by_fuel_type\")\n",
    "plt.show()"
   ]
  },
  {
   "cell_type": "markdown",
   "id": "0c8179d6-a88f-4d62-946d-cfb28703b7bb",
   "metadata": {},
   "source": [
    "## Tools and Utilities\n",
    "\n",
    "Function to calculate cost of journey based on distance and fuel price with option to filter by fuel type, roof rack and/or driving style."
   ]
  },
  {
   "cell_type": "code",
   "execution_count": 329,
   "id": "2dcae964-8eef-4ea4-b0aa-a320eb21126e",
   "metadata": {},
   "outputs": [],
   "source": [
    "def journey_cost(distance, ppl, data=fuel2, roof_racks=None, fuel_type=None, driving_style=None):\n",
    "    df = data.copy()\n",
    "    \n",
    "    for var, name in ((roof_racks, 'roof_racks'),\n",
    "                      (fuel_type, 'fuel_type'),\n",
    "                      (driving_style, 'driving_style')):\n",
    "        if var != None:\n",
    "            df = df[(df[name] == var)]\n",
    "            \n",
    "    average_miles_per_liter = df['miles_per_liter'].mean()\n",
    "    \n",
    "    liters = distance / average_miles_per_liter\n",
    "    price = liters * ppl / 100\n",
    "    \n",
    "    print(f\"AVG MPL: {average_miles_per_liter:.4f} mpl\")\n",
    "    print(f\"DIST: {distance} mi\")\n",
    "    print(f\"LITERS: {liters:.1f} l\")\n",
    "    print(f\"\\033[1mPrice: £{price:.2f}\")"
   ]
  },
  {
   "cell_type": "code",
   "execution_count": 330,
   "id": "5fa07540-f3b7-444b-b49e-70e90a90f95c",
   "metadata": {},
   "outputs": [
    {
     "name": "stdout",
     "output_type": "stream",
     "text": [
      "AVG MPL: 9.3427 mpl\n",
      "DIST: 350 mi\n",
      "LITERS: 37.5 l\n",
      "\u001b[1mPrice: £56.16\n"
     ]
    }
   ],
   "source": [
    "journey_cost(350, 149.9)"
   ]
  }
 ],
 "metadata": {
  "kernelspec": {
   "display_name": "Python 3 (ipykernel)",
   "language": "python",
   "name": "python3"
  },
  "language_info": {
   "codemirror_mode": {
    "name": "ipython",
    "version": 3
   },
   "file_extension": ".py",
   "mimetype": "text/x-python",
   "name": "python",
   "nbconvert_exporter": "python",
   "pygments_lexer": "ipython3",
   "version": "3.9.13"
  }
 },
 "nbformat": 4,
 "nbformat_minor": 5
}
